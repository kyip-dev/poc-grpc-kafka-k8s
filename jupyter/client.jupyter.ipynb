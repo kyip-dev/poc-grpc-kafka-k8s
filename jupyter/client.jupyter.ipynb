{
 "cells": [
  {
   "cell_type": "code",
   "execution_count": 4,
   "metadata": {},
   "outputs": [
    {
     "name": "stdout",
     "output_type": "stream",
     "text": [
      "192.168.99.100:30123\n",
      "input text: 192.168.99.100:30123\n",
      "hello 192.168.99.100:30123. return from server\n"
     ]
    }
   ],
   "source": [
    "# client.py\n",
    "\n",
    "import grpc\n",
    "\n",
    "import hello_pb2\n",
    "import hello_pb2_grpc\n",
    "\n",
    "channel = grpc.insecure_channel('testpod:50052')\n",
    "\n",
    "\n",
    "stub = hello_pb2_grpc.HelloStub(channel)\n",
    "\n",
    "user_input = input()\n",
    "print(\"input text:\",user_input)\n",
    "\n",
    "request = hello_pb2.HelloRequest(name=user_input)\n",
    "\n",
    "response = stub.SayHello(request)\n",
    "\n",
    "print(response.message)"
   ]
  },
  {
   "cell_type": "code",
   "execution_count": null,
   "metadata": {},
   "outputs": [],
   "source": []
  },
  {
   "cell_type": "code",
   "execution_count": null,
   "metadata": {},
   "outputs": [],
   "source": []
  }
 ],
 "metadata": {
  "kernelspec": {
   "display_name": "Python 3",
   "language": "python",
   "name": "python3"
  },
  "language_info": {
   "codemirror_mode": {
    "name": "ipython",
    "version": 3
   },
   "file_extension": ".py",
   "mimetype": "text/x-python",
   "name": "python",
   "nbconvert_exporter": "python",
   "pygments_lexer": "ipython3",
   "version": "3.7.3"
  }
 },
 "nbformat": 4,
 "nbformat_minor": 2
}
